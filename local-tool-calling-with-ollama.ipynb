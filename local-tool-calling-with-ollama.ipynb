{
 "cells": [
  {
   "metadata": {},
   "cell_type": "markdown",
   "source": "# Local Tool Calling with Ollama",
   "id": "70ba8080b0b823e6"
  },
  {
   "metadata": {
    "ExecuteTime": {
     "end_time": "2024-07-24T18:37:17.418043Z",
     "start_time": "2024-07-24T18:37:17.415682Z"
    }
   },
   "cell_type": "code",
   "source": [
    "from typing import List\n",
    "from typing_extensions import TypedDict\n",
    "from langchain_ollama import ChatOllama\n",
    "from dotenv import load_dotenv"
   ],
   "id": "f153ea5a16fa6323",
   "outputs": [],
   "execution_count": 51
  },
  {
   "metadata": {
    "ExecuteTime": {
     "end_time": "2024-07-24T18:37:17.835709Z",
     "start_time": "2024-07-24T18:37:17.833112Z"
    }
   },
   "cell_type": "code",
   "source": "load_dotenv(\".env\")",
   "id": "949da45e8182466c",
   "outputs": [
    {
     "data": {
      "text/plain": [
       "True"
      ]
     },
     "execution_count": 52,
     "metadata": {},
     "output_type": "execute_result"
    }
   ],
   "execution_count": 52
  },
  {
   "metadata": {
    "ExecuteTime": {
     "end_time": "2024-07-24T18:37:18.270711Z",
     "start_time": "2024-07-24T18:37:18.268877Z"
    }
   },
   "cell_type": "code",
   "source": [
    "def validate_user(user_id: int, addesses: List ) -> bool:\n",
    "    return True\n",
    "\n",
    "def read_databot_values(sensor_names: List) -> List[float]:\n",
    "    \"\"\" Function will read the databot sensor values and return the values\"\"\"\n",
    "    print(sensor_names)\n",
    "    return [123.45, 42.3]\n"
   ],
   "id": "e3b75a718a58ea60",
   "outputs": [],
   "execution_count": 53
  },
  {
   "metadata": {
    "ExecuteTime": {
     "end_time": "2024-07-24T18:37:19.707737Z",
     "start_time": "2024-07-24T18:37:19.701982Z"
    }
   },
   "cell_type": "code",
   "source": [
    "llm = ChatOllama(\n",
    "    model= \"llama3.1\", #\"llama3-groq-tool-use\",\n",
    "    temperature=0,\n",
    ").bind_tools([validate_user, read_databot_values])"
   ],
   "id": "16674b70a38d41f2",
   "outputs": [],
   "execution_count": 54
  },
  {
   "metadata": {
    "ExecuteTime": {
     "end_time": "2024-07-24T18:37:23.027503Z",
     "start_time": "2024-07-24T18:37:20.683094Z"
    }
   },
   "cell_type": "code",
   "source": "result = llm.invoke(\"Could you validate user 123? They previously lived at 123 Main St, in Mayberry West Virginia and 643 Barrington Street in Halifax, Nova Scotia Canada. In addition can you read the databot values for the databot sensors pressure and humidity?\")",
   "id": "9bb118492b02e4a",
   "outputs": [],
   "execution_count": 55
  },
  {
   "metadata": {
    "ExecuteTime": {
     "end_time": "2024-07-24T18:37:23.806426Z",
     "start_time": "2024-07-24T18:37:23.803264Z"
    }
   },
   "cell_type": "code",
   "source": "result.tool_calls",
   "id": "267a21b142c6c492",
   "outputs": [
    {
     "data": {
      "text/plain": [
       "[{'name': 'validate_user',\n",
       "  'args': {'addesses': '[{\"street\": \"Main St\", \"city\": \"Mayberry\", \"state\": \"West Virginia\"}, {\"street\": \"Barrington Street\", \"city\": \"Halifax\", \"country\": \"Canada\"}]',\n",
       "   'user_id': 123},\n",
       "  'id': 'a9995594-bc41-4dfb-ad96-6f8a6e09f986',\n",
       "  'type': 'tool_call'},\n",
       " {'name': 'read_databot_values',\n",
       "  'args': {'sensor_names': '[\"pressure\", \"humidity\"]'},\n",
       "  'id': '8ceff8ba-4692-49e6-a6f0-fbdda613d746',\n",
       "  'type': 'tool_call'}]"
      ]
     },
     "execution_count": 56,
     "metadata": {},
     "output_type": "execute_result"
    }
   ],
   "execution_count": 56
  },
  {
   "metadata": {
    "ExecuteTime": {
     "end_time": "2024-07-24T18:15:36.782546Z",
     "start_time": "2024-07-24T18:15:36.234422Z"
    }
   },
   "cell_type": "code",
   "source": "result = llm.invoke(\"Can you read the databot values for the databot sensors pressure and humidity?\")\n",
   "id": "49b5f583503f1119",
   "outputs": [],
   "execution_count": 7
  },
  {
   "metadata": {
    "ExecuteTime": {
     "end_time": "2024-07-24T18:15:36.787569Z",
     "start_time": "2024-07-24T18:15:36.784657Z"
    }
   },
   "cell_type": "code",
   "source": "result.tool_calls",
   "id": "fd68ffc6a4497232",
   "outputs": [
    {
     "data": {
      "text/plain": [
       "[{'name': 'read_databot_values',\n",
       "  'args': {'sensor_names': '[\"pressure\", \"humidity\"]'},\n",
       "  'id': '0f842621-62a6-4fab-a37f-cfb448b96e26',\n",
       "  'type': 'tool_call'}]"
      ]
     },
     "execution_count": 8,
     "metadata": {},
     "output_type": "execute_result"
    }
   ],
   "execution_count": 8
  },
  {
   "metadata": {},
   "cell_type": "markdown",
   "source": "## Using LangGraph to build Agent",
   "id": "4f264403dfa21c2d"
  },
  {
   "metadata": {
    "ExecuteTime": {
     "end_time": "2024-07-24T18:15:39.072277Z",
     "start_time": "2024-07-24T18:15:39.067106Z"
    }
   },
   "cell_type": "code",
   "source": [
    "from langchain_community.embeddings.ollama import OllamaEmbeddings\n",
    "embeddings = OllamaEmbeddings(model='nomic-embed-text')\n"
   ],
   "id": "54e0f508c784e680",
   "outputs": [],
   "execution_count": 9
  },
  {
   "metadata": {
    "ExecuteTime": {
     "end_time": "2024-07-24T18:15:39.894181Z",
     "start_time": "2024-07-24T18:15:39.891545Z"
    }
   },
   "cell_type": "code",
   "source": [
    "llm = ChatOllama(\n",
    "    model= \"llama3.1\", #\"llama3-groq-tool-use\",\n",
    "    temperature=0,\n",
    ")"
   ],
   "id": "e6cdc20f07913e46",
   "outputs": [],
   "execution_count": 10
  },
  {
   "metadata": {
    "ExecuteTime": {
     "end_time": "2024-07-24T18:15:40.148831Z",
     "start_time": "2024-07-24T18:15:40.063753Z"
    }
   },
   "cell_type": "code",
   "source": [
    "from langchain.text_splitter import RecursiveCharacterTextSplitter\n",
    "from langchain_community.document_loaders import WebBaseLoader\n",
    "from langchain_community.vectorstores import SKLearnVectorStore\n"
   ],
   "id": "ebf89c274260077e",
   "outputs": [],
   "execution_count": 11
  },
  {
   "metadata": {
    "ExecuteTime": {
     "end_time": "2024-07-24T18:15:40.248581Z",
     "start_time": "2024-07-24T18:15:40.245949Z"
    }
   },
   "cell_type": "code",
   "source": [
    "urls = [\n",
    "    \"https://lilianweng.github.io/posts/2023-06-23-agent\",\n",
    "    \"https://lilianweng.github.io/posts/2023-03-15-prompt-engineering\",\n",
    "    \"https://lilianweng.github.io/posts/2023-10-25-adv-attack-llm\",\n",
    "]"
   ],
   "id": "d6beab1d266f6ac1",
   "outputs": [],
   "execution_count": 12
  },
  {
   "metadata": {
    "ExecuteTime": {
     "end_time": "2024-07-24T18:15:41.632923Z",
     "start_time": "2024-07-24T18:15:40.765171Z"
    }
   },
   "cell_type": "code",
   "source": "docs = [WebBaseLoader(url).load() for url in urls]",
   "id": "197b3b79620ac7a5",
   "outputs": [],
   "execution_count": 13
  },
  {
   "metadata": {
    "ExecuteTime": {
     "end_time": "2024-07-24T18:15:41.636356Z",
     "start_time": "2024-07-24T18:15:41.634087Z"
    }
   },
   "cell_type": "code",
   "source": "len(docs)",
   "id": "2250e10ab8d4e67b",
   "outputs": [
    {
     "data": {
      "text/plain": [
       "3"
      ]
     },
     "execution_count": 14,
     "metadata": {},
     "output_type": "execute_result"
    }
   ],
   "execution_count": 14
  },
  {
   "metadata": {
    "ExecuteTime": {
     "end_time": "2024-07-24T18:15:42.267521Z",
     "start_time": "2024-07-24T18:15:42.265642Z"
    }
   },
   "cell_type": "code",
   "source": "docs_list = [item for sublist in docs for item in sublist]",
   "id": "b8fdb125184b9a4f",
   "outputs": [],
   "execution_count": 15
  },
  {
   "metadata": {
    "ExecuteTime": {
     "end_time": "2024-07-24T18:15:42.736928Z",
     "start_time": "2024-07-24T18:15:42.734610Z"
    }
   },
   "cell_type": "code",
   "source": "len(docs_list)",
   "id": "e07c34b0941f2651",
   "outputs": [
    {
     "data": {
      "text/plain": [
       "3"
      ]
     },
     "execution_count": 16,
     "metadata": {},
     "output_type": "execute_result"
    }
   ],
   "execution_count": 16
  },
  {
   "metadata": {
    "ExecuteTime": {
     "end_time": "2024-07-24T18:15:42.977139Z",
     "start_time": "2024-07-24T18:15:42.833326Z"
    }
   },
   "cell_type": "code",
   "source": [
    "text_splitter = RecursiveCharacterTextSplitter.from_tiktoken_encoder(\n",
    "    chunk_size=250,\n",
    "    chunk_overlap=0,\n",
    ")"
   ],
   "id": "acc65997ba9c184",
   "outputs": [],
   "execution_count": 17
  },
  {
   "metadata": {
    "ExecuteTime": {
     "end_time": "2024-07-24T18:15:43.131074Z",
     "start_time": "2024-07-24T18:15:43.089337Z"
    }
   },
   "cell_type": "code",
   "source": "docs_splits = text_splitter.split_documents(docs_list)",
   "id": "22b3409792472c87",
   "outputs": [],
   "execution_count": 18
  },
  {
   "metadata": {
    "ExecuteTime": {
     "end_time": "2024-07-24T18:15:43.370783Z",
     "start_time": "2024-07-24T18:15:43.367473Z"
    }
   },
   "cell_type": "code",
   "source": "len(docs_splits)",
   "id": "240e106940e28493",
   "outputs": [
    {
     "data": {
      "text/plain": [
       "194"
      ]
     },
     "execution_count": 19,
     "metadata": {},
     "output_type": "execute_result"
    }
   ],
   "execution_count": 19
  },
  {
   "metadata": {
    "ExecuteTime": {
     "end_time": "2024-07-24T18:15:48.650900Z",
     "start_time": "2024-07-24T18:15:43.628176Z"
    }
   },
   "cell_type": "code",
   "source": [
    "vector_store = SKLearnVectorStore.from_documents(\n",
    "    documents=docs_splits,\n",
    "    embedding=embeddings,\n",
    ")"
   ],
   "id": "c9c7bbab25443e57",
   "outputs": [],
   "execution_count": 20
  },
  {
   "metadata": {
    "ExecuteTime": {
     "end_time": "2024-07-24T18:15:48.655651Z",
     "start_time": "2024-07-24T18:15:48.652940Z"
    }
   },
   "cell_type": "code",
   "source": "retriever = vector_store.as_retriever(k=4)",
   "id": "aedd5b34de55bf3c",
   "outputs": [],
   "execution_count": 21
  },
  {
   "metadata": {
    "ExecuteTime": {
     "end_time": "2024-07-24T18:15:48.659400Z",
     "start_time": "2024-07-24T18:15:48.656935Z"
    }
   },
   "cell_type": "code",
   "source": [
    "def retrieve_documents(query: str) -> List:\n",
    "    \"\"\"\n",
    "    Function will retrieve the documents stored in the vector store\n",
    "    :param query: \n",
    "    :return: List of documents\n",
    "    \"\"\"\n",
    "    return retriever.invoke(query)"
   ],
   "id": "f2a617beb8a7c67",
   "outputs": [],
   "execution_count": 22
  },
  {
   "metadata": {},
   "cell_type": "markdown",
   "source": "### Search Tool",
   "id": "6765bc85b68ca0b9"
  },
  {
   "metadata": {
    "ExecuteTime": {
     "end_time": "2024-07-24T18:15:48.671598Z",
     "start_time": "2024-07-24T18:15:48.660808Z"
    }
   },
   "cell_type": "code",
   "source": [
    "from langchain.schema import Document\n",
    "from langchain_community.tools.tavily_search import TavilySearchResults"
   ],
   "id": "2e1859f1829e29",
   "outputs": [],
   "execution_count": 23
  },
  {
   "metadata": {
    "ExecuteTime": {
     "end_time": "2024-07-24T18:15:48.763477Z",
     "start_time": "2024-07-24T18:15:48.761628Z"
    }
   },
   "cell_type": "code",
   "source": "web_search_tool = TavilySearchResults()",
   "id": "512c1237fa1cf103",
   "outputs": [],
   "execution_count": 24
  },
  {
   "metadata": {
    "ExecuteTime": {
     "end_time": "2024-07-24T18:15:49.019255Z",
     "start_time": "2024-07-24T18:15:49.016385Z"
    }
   },
   "cell_type": "code",
   "source": [
    "def web_search(query: str) -> List:\n",
    "    \"\"\"\n",
    "    Function Name: web_search\n",
    "    This function will will use the TavilySearch API to search the web site\n",
    "    \n",
    "    :param query: The tavily search query \n",
    "    :return: List of Documents\n",
    "    \"\"\"\n",
    "    web_results = web_search_tool.invoke({\"query\": query})\n",
    "    return [\n",
    "        Document(page_content=d['content'], metadata={\"url\": d['url']}) for d in web_results\n",
    "    ]"
   ],
   "id": "dbca9e83f5e24d32",
   "outputs": [],
   "execution_count": 25
  },
  {
   "metadata": {},
   "cell_type": "markdown",
   "source": [
    "#### Create 2 Tools\n",
    "\n",
    "* document retriever tool\n",
    "* web search tool"
   ],
   "id": "8dad87a397f6af7d"
  },
  {
   "metadata": {
    "ExecuteTime": {
     "end_time": "2024-07-24T18:15:49.948887Z",
     "start_time": "2024-07-24T18:15:49.947105Z"
    }
   },
   "cell_type": "code",
   "source": "tools = [retrieve_documents, web_search]",
   "id": "19200e8788c7e210",
   "outputs": [],
   "execution_count": 26
  },
  {
   "metadata": {},
   "cell_type": "markdown",
   "source": "## Create Assistant",
   "id": "a2397543f422ae0"
  },
  {
   "metadata": {
    "ExecuteTime": {
     "end_time": "2024-07-24T18:15:50.993838Z",
     "start_time": "2024-07-24T18:15:50.976136Z"
    }
   },
   "cell_type": "code",
   "source": [
    "from typing import Annotated, List\n",
    "from typing_extensions import TypedDict\n",
    "from langchain_core.prompts import ChatPromptTemplate\n",
    "from langchain_core.runnables import Runnable\n",
    "from langgraph.graph.message import AnyMessage, add_messages"
   ],
   "id": "3b9cf2dc7956617f",
   "outputs": [],
   "execution_count": 27
  },
  {
   "metadata": {
    "ExecuteTime": {
     "end_time": "2024-07-24T18:15:51.386128Z",
     "start_time": "2024-07-24T18:15:51.383389Z"
    }
   },
   "cell_type": "code",
   "source": [
    "class State(TypedDict):\n",
    "    messages: Annotated[List[AnyMessage], add_messages]"
   ],
   "id": "c7546ad3b311c73",
   "outputs": [],
   "execution_count": 28
  },
  {
   "metadata": {
    "ExecuteTime": {
     "end_time": "2024-07-24T18:15:51.592549Z",
     "start_time": "2024-07-24T18:15:51.588942Z"
    }
   },
   "cell_type": "code",
   "source": [
    "class Assistant:\n",
    "    \n",
    "    def __init__(self, runnable: Runnable):\n",
    "        self.runnable = runnable\n",
    "    \n",
    "    def __call__(self, state: State, config: Runnable):\n",
    "        while True:\n",
    "            result = self.runnable.invoke(state)\n",
    "            if not result.tool_calls and (\n",
    "                not result.content\n",
    "                or isinstance(result.content, list)\n",
    "                and not result.content[0].get(\"text\")\n",
    "            ):\n",
    "                messages = state['messages'] + [{\"user\", \"Respond with a real output.\"}]\n",
    "                state = {**state, \"messages\": messages}\n",
    "            else:\n",
    "                break\n",
    "        return {\"messages\": result}\n",
    "    "
   ],
   "id": "996715196812d8aa",
   "outputs": [],
   "execution_count": 29
  },
  {
   "metadata": {},
   "cell_type": "markdown",
   "source": "### Create the primary assistant prompt template",
   "id": "5a7ac535c1e05706"
  },
  {
   "metadata": {
    "ExecuteTime": {
     "end_time": "2024-07-24T18:15:52.477679Z",
     "start_time": "2024-07-24T18:15:52.476076Z"
    }
   },
   "cell_type": "code",
   "source": "from langchain_core.prompts.chat import ChatPromptTemplate",
   "id": "a3d62ce7dc442eaf",
   "outputs": [],
   "execution_count": 30
  },
  {
   "metadata": {
    "ExecuteTime": {
     "end_time": "2024-07-24T18:15:52.929445Z",
     "start_time": "2024-07-24T18:15:52.926318Z"
    }
   },
   "cell_type": "code",
   "source": [
    "primary_assistant_prompt = ChatPromptTemplate.from_messages(\n",
    "    [\n",
    "        (\n",
    "            \"system\",\n",
    "            \"You are a helpful assistant tasked with answering user questions.\"\n",
    "            \"You have access to two tools: retrieve_documents and web_search.\"\n",
    "            \"For any user questions about LLM agents, use the retieve_documents tools to get information for a vectorstore.\"\n",
    "            \"For any other questions, such as questions about current events, use the web_search tool to get information from the web.\"\n",
    "\n",
    "        ),\n",
    "        (\"placeholder\", \"{messages}\"),\n",
    "    ]\n",
    ")"
   ],
   "id": "1aebab7d4d6c27d7",
   "outputs": [],
   "execution_count": 31
  },
  {
   "metadata": {
    "ExecuteTime": {
     "end_time": "2024-07-24T18:15:53.426454Z",
     "start_time": "2024-07-24T18:15:53.422030Z"
    }
   },
   "cell_type": "code",
   "source": "assistant_runnable = primary_assistant_prompt | llm.bind_tools(tools)",
   "id": "b5ce033f13555dc5",
   "outputs": [],
   "execution_count": 32
  },
  {
   "metadata": {
    "ExecuteTime": {
     "end_time": "2024-07-24T18:15:53.590774Z",
     "start_time": "2024-07-24T18:15:53.586983Z"
    }
   },
   "cell_type": "code",
   "source": [
    "from langchain_core.runnables import RunnableLambda\n",
    "from langchain_core.messages import ToolMessage\n",
    "from langgraph.prebuilt import ToolNode"
   ],
   "id": "8fbc4fc2f1e9e7b3",
   "outputs": [],
   "execution_count": 33
  },
  {
   "metadata": {
    "ExecuteTime": {
     "end_time": "2024-07-24T18:15:54.102166Z",
     "start_time": "2024-07-24T18:15:54.099551Z"
    }
   },
   "cell_type": "code",
   "source": [
    "def handle_tool_error(state: State) -> dict:\n",
    "    error = state.get(\"error\")\n",
    "    tools_calls = state['messages'][-1].tool_calls\n",
    "    return {\n",
    "        \"messages\": [\n",
    "            ToolMessage(\n",
    "                content=f\"Error: {repr(error)}\\n please fix your mistakes.\",\n",
    "                tools_call_id=tc['id']\n",
    "            ) for tc in tools_calls\n",
    "        ]\n",
    "    }\n",
    "    \n",
    "def create_tool_node_with_fallback(tools: List) -> dict:\n",
    "    res = ToolNode(tools).with_fallbacks(\n",
    "        fallbacks=[RunnableLambda(handle_tool_error)],\n",
    "        exception_key=\"error\"\n",
    "    )\n",
    "    return res\n"
   ],
   "id": "f969c23d884b37e4",
   "outputs": [],
   "execution_count": 34
  },
  {
   "metadata": {
    "ExecuteTime": {
     "end_time": "2024-07-24T18:15:54.751064Z",
     "start_time": "2024-07-24T18:15:54.748025Z"
    }
   },
   "cell_type": "code",
   "source": [
    "from langgraph.checkpoint.sqlite import SqliteSaver\n",
    "from langgraph.graph import START, END, StateGraph\n",
    "from langgraph.prebuilt import tools_condition\n",
    "from IPython.display import display, Image"
   ],
   "id": "b3b93a414984b36",
   "outputs": [],
   "execution_count": 35
  },
  {
   "metadata": {
    "ExecuteTime": {
     "end_time": "2024-07-24T18:15:54.999314Z",
     "start_time": "2024-07-24T18:15:54.996514Z"
    }
   },
   "cell_type": "code",
   "source": [
    "# graph\n",
    "builder = StateGraph(State)"
   ],
   "id": "3ed56f5ddf77b91a",
   "outputs": [],
   "execution_count": 36
  },
  {
   "metadata": {
    "ExecuteTime": {
     "end_time": "2024-07-24T18:15:56.179349Z",
     "start_time": "2024-07-24T18:15:56.174133Z"
    }
   },
   "cell_type": "code",
   "source": [
    "# Define notes: these do the work\n",
    "builder.add_node(\"assistant\", Assistant(assistant_runnable))\n",
    "builder.add_node(\"tools\", create_tool_node_with_fallback(tools))"
   ],
   "id": "8804b96cba5e82c8",
   "outputs": [],
   "execution_count": 37
  },
  {
   "metadata": {
    "ExecuteTime": {
     "end_time": "2024-07-24T18:19:23.018381Z",
     "start_time": "2024-07-24T18:19:23.016044Z"
    }
   },
   "cell_type": "code",
   "source": [
    "# define edges:  these determine how the control flow moves\n",
    "builder.add_edge(START, \"assistant\")\n",
    "builder.add_conditional_edges(\n",
    "    \"assistant\",\n",
    "    # if the latest message (result) from assistant is a tool call -> tools_condition routes to tools\n",
    "    # if the latest message ( resuilt) from assistant is not a tool call -> tools_condition routes to END\n",
    "    tools_condition,\n",
    ")\n",
    "builder.add_edge(\"tools\", \"assistant\")"
   ],
   "id": "e4dd69dd3b950d7",
   "outputs": [],
   "execution_count": 38
  },
  {
   "metadata": {
    "ExecuteTime": {
     "end_time": "2024-07-24T18:20:01.798289Z",
     "start_time": "2024-07-24T18:20:01.795213Z"
    }
   },
   "cell_type": "code",
   "source": [
    "memory = SqliteSaver.from_conn_string(\":memory:\")\n",
    "react_graph = builder.compile(checkpointer=memory)"
   ],
   "id": "cb33a440f92e6cc6",
   "outputs": [],
   "execution_count": 39
  },
  {
   "metadata": {
    "ExecuteTime": {
     "end_time": "2024-07-24T18:20:38.555246Z",
     "start_time": "2024-07-24T18:20:37.676542Z"
    }
   },
   "cell_type": "code",
   "source": [
    "# Show langgraph\n",
    "display(Image(react_graph.get_graph(xray=True).draw_mermaid_png()))"
   ],
   "id": "f09820409158499b",
   "outputs": [
    {
     "data": {
      "image/jpeg": "[encoded data removed]",
      "text/plain": [
       "<IPython.core.display.Image object>"
      ]
     },
     "metadata": {},
     "output_type": "display_data"
    }
   ],
   "execution_count": 40
  },
  {
   "metadata": {},
   "cell_type": "markdown",
   "source": "# Invoke",
   "id": "ddcb0597d58c80c9"
  },
  {
   "metadata": {
    "ExecuteTime": {
     "end_time": "2024-07-24T18:26:35.877956Z",
     "start_time": "2024-07-24T18:26:35.875362Z"
    }
   },
   "cell_type": "code",
   "source": [
    "import uuid\n",
    "\n",
    "def predict_react_agent_answer(example: dict):\n",
    "    \"\"\"\n",
    "    use this for answer evaluation\n",
    "    \n",
    "    :param example: \n",
    "    :return: \n",
    "    \"\"\"\n",
    "    config = {\n",
    "        \"configurable\": {\n",
    "            \"thread_id\": str(uuid.uuid4()),\n",
    "        }\n",
    "    }\n",
    "    \n",
    "    messages = react_graph.invoke({\n",
    "        \"messages\": (\"user\", example['input'])\n",
    "    }, config)\n",
    "    \n",
    "    return {\"response\": messages['messages'][-1].content, \"messages\": messages}\n"
   ],
   "id": "588c7a0759ce5fab",
   "outputs": [],
   "execution_count": 41
  },
  {
   "metadata": {
    "ExecuteTime": {
     "end_time": "2024-07-24T18:27:01.256360Z",
     "start_time": "2024-07-24T18:27:01.254503Z"
    }
   },
   "cell_type": "code",
   "source": [
    "example = {\n",
    "    \"input\": \"Get me information about the types of LLLM agent memory\"\n",
    "}\n"
   ],
   "id": "988b41d139bed7bf",
   "outputs": [],
   "execution_count": 42
  },
  {
   "metadata": {
    "ExecuteTime": {
     "end_time": "2024-07-24T18:27:16.329686Z",
     "start_time": "2024-07-24T18:27:08.725394Z"
    }
   },
   "cell_type": "code",
   "source": "response = predict_react_agent_answer(example)",
   "id": "4a3d29ee2766aed",
   "outputs": [],
   "execution_count": 43
  },
  {
   "metadata": {
    "ExecuteTime": {
     "end_time": "2024-07-24T18:27:40.932780Z",
     "start_time": "2024-07-24T18:27:40.931047Z"
    }
   },
   "cell_type": "code",
   "source": "print(response['response'])",
   "id": "2659d0d25b7d9d1d",
   "outputs": [
    {
     "name": "stdout",
     "output_type": "stream",
     "text": [
      "Based on the documents retrieved, there are several types of memory that can be used in LLM-powered autonomous agents:\n",
      "\n",
      "1. **Sensory Memory**: This is the earliest stage of memory, providing the ability to retain impressions of sensory information (visual, auditory, etc) after the original stimuli have ended. Sensory memory typically only lasts for up to a few seconds.\n",
      "2. **Maximum Inner Product Search (MIPS)**: MIPS is a type of memory that can be used in LLM-powered autonomous agents. It allows for fast and efficient search through large datasets.\n",
      "\n",
      "These types of memory can be used in combination with other components, such as planning and tool use, to create a robust and effective LLM-powered autonomous agent system.\n"
     ]
    }
   ],
   "execution_count": 46
  },
  {
   "metadata": {
    "ExecuteTime": {
     "end_time": "2024-07-24T18:29:25.182876Z",
     "start_time": "2024-07-24T18:29:10.668763Z"
    }
   },
   "cell_type": "code",
   "source": [
    "example = {\n",
    "    \"input\": \"What is the weather in Chicago Illinois US\"\n",
    "}\n",
    "response = predict_react_agent_answer(example)\n",
    "print(response['response'])"
   ],
   "id": "bef74f232e9cedf9",
   "outputs": [
    {
     "name": "stdout",
     "output_type": "stream",
     "text": [
      "Based on the web search results, it appears that there are various sources providing information about the weather in Chicago, Illinois, US.\n",
      "\n",
      "According to WeatherAPI (https://www.weatherapi.com/), the current weather conditions in Chicago are:\n",
      "\n",
      "* Temperature: 23.4°C (74.1°F)\n",
      "* Condition: Patchy rain nearby\n",
      "* Wind speed: 7.4 mph (11.9 km/h) from the northeast\n",
      "\n",
      "Additionally, AccuWeather (https://www.accuweather.com/en/us/chicago/60608/running-july-weather/348308) provides a monthly weather forecast for Chicago in July 2024, which includes daily high and low temperatures, historical averages, and precipitation information.\n",
      "\n",
      "Weather.com (https://weather.com/weather/monthly/l/Chicago+IL?canonicalCityId=51327091448a763db3e0093b240009381d87952467e6c2ba8bad55f1328ec986) also provides a monthly weather forecast for Chicago in July 2024, including average and record temperatures, precipitation, and more.\n",
      "\n",
      "World-Weather.info (https://world-weather.info/forecast/usa/chicago/july-2024/) provides a general overview of the weather in Chicago in July 2024, based on long-term prognosis and previous years' statistical data.\n",
      "\n",
      "Weathertab.com (https://www.weathertab.com/en/c/e/07/united-states/illinois/chicago/) provides detailed day-by-day forecasts for Chicago in July 2024, including daily high and low temperatures, precipitation risks, and monthly temperature trends.\n"
     ]
    }
   ],
   "execution_count": 48
  },
  {
   "metadata": {},
   "cell_type": "code",
   "outputs": [],
   "execution_count": null,
   "source": "",
   "id": "faef5b1631e6189f"
  }
 ],
 "metadata": {
  "kernelspec": {
   "display_name": "Python 3",
   "language": "python",
   "name": "python3"
  },
  "language_info": {
   "codemirror_mode": {
    "name": "ipython",
    "version": 2
   },
   "file_extension": ".py",
   "mimetype": "text/x-python",
   "name": "python",
   "nbconvert_exporter": "python",
   "pygments_lexer": "ipython2",
   "version": "2.7.6"
  }
 },
 "nbformat": 4,
 "nbformat_minor": 5
}
